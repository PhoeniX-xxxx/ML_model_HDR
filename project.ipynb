{
 "cells": [
  {
   "cell_type": "code",
   "execution_count": 1,
   "metadata": {},
   "outputs": [
    {
     "name": "stdout",
     "output_type": "stream",
     "text": [
      "WARNING:tensorflow:From c:\\Users\\Abhay Kumar\\anaconda3\\Lib\\site-packages\\keras\\src\\losses.py:2976: The name tf.losses.sparse_softmax_cross_entropy is deprecated. Please use tf.compat.v1.losses.sparse_softmax_cross_entropy instead.\n",
      "\n"
     ]
    }
   ],
   "source": [
    "import tensorflow as tf"
   ]
  },
  {
   "cell_type": "code",
   "execution_count": 44,
   "metadata": {},
   "outputs": [],
   "source": [
    "mnist = tf.keras.datasets.mnist"
   ]
  },
  {
   "cell_type": "code",
   "execution_count": 3,
   "metadata": {},
   "outputs": [],
   "source": [
    "(x_train, y_train), (x_test, y_test) = mnist.load_data()"
   ]
  },
  {
   "cell_type": "code",
   "execution_count": 4,
   "metadata": {},
   "outputs": [
    {
     "data": {
      "text/plain": [
       "(60000, 28, 28)"
      ]
     },
     "execution_count": 4,
     "metadata": {},
     "output_type": "execute_result"
    }
   ],
   "source": [
    "x_train.shape"
   ]
  },
  {
   "cell_type": "code",
   "execution_count": 5,
   "metadata": {},
   "outputs": [
    {
     "data": {
      "image/png": "[encoded data removed]",
      "text/plain": [
       "<Figure size 640x480 with 1 Axes>"
      ]
     },
     "metadata": {},
     "output_type": "display_data"
    },
    {
     "data": {
      "text/plain": [
       "<matplotlib.image.AxesImage at 0x2491de63050>"
      ]
     },
     "execution_count": 5,
     "metadata": {},
     "output_type": "execute_result"
    },
    {
     "data": {
      "image/png": "[encoded data removed]",
      "text/plain": [
       "<Figure size 640x480 with 1 Axes>"
      ]
     },
     "metadata": {},
     "output_type": "display_data"
    }
   ],
   "source": [
    "import matplotlib.pyplot as plt\n",
    "plt.imshow(x_train[0])\n",
    "plt.show()\n",
    "plt.imshow(x_train[0], cmap = plt.cm.binary)"
   ]
  },
  {
   "cell_type": "code",
   "execution_count": 6,
   "metadata": {},
   "outputs": [
    {
     "name": "stdout",
     "output_type": "stream",
     "text": [
      "[[  0   0   0   0   0   0   0   0   0   0   0   0   0   0   0   0   0   0\n",
      "    0   0   0   0   0   0   0   0   0   0]\n",
      " [  0   0   0   0   0   0   0   0   0   0   0   0   0   0   0   0   0   0\n",
      "    0   0   0   0   0   0   0   0   0   0]\n",
      " [  0   0   0   0   0   0   0   0   0   0   0   0   0   0   0   0   0   0\n",
      "    0   0   0   0   0   0   0   0   0   0]\n",
      " [  0   0   0   0   0   0   0   0   0   0   0   0   0   0   0   0   0   0\n",
      "    0   0   0   0   0   0   0   0   0   0]\n",
      " [  0   0   0   0   0   0   0   0   0   0   0   0   0   0   0   0   0   0\n",
      "    0   0   0   0   0   0   0   0   0   0]\n",
      " [  0   0   0   0   0   0   0   0   0   0   0   0   3  18  18  18 126 136\n",
      "  175  26 166 255 247 127   0   0   0   0]\n",
      " [  0   0   0   0   0   0   0   0  30  36  94 154 170 253 253 253 253 253\n",
      "  225 172 253 242 195  64   0   0   0   0]\n",
      " [  0   0   0   0   0   0   0  49 238 253 253 253 253 253 253 253 253 251\n",
      "   93  82  82  56  39   0   0   0   0   0]\n",
      " [  0   0   0   0   0   0   0  18 219 253 253 253 253 253 198 182 247 241\n",
      "    0   0   0   0   0   0   0   0   0   0]\n",
      " [  0   0   0   0   0   0   0   0  80 156 107 253 253 205  11   0  43 154\n",
      "    0   0   0   0   0   0   0   0   0   0]\n",
      " [  0   0   0   0   0   0   0   0   0  14   1 154 253  90   0   0   0   0\n",
      "    0   0   0   0   0   0   0   0   0   0]\n",
      " [  0   0   0   0   0   0   0   0   0   0   0 139 253 190   2   0   0   0\n",
      "    0   0   0   0   0   0   0   0   0   0]\n",
      " [  0   0   0   0   0   0   0   0   0   0   0  11 190 253  70   0   0   0\n",
      "    0   0   0   0   0   0   0   0   0   0]\n",
      " [  0   0   0   0   0   0   0   0   0   0   0   0  35 241 225 160 108   1\n",
      "    0   0   0   0   0   0   0   0   0   0]\n",
      " [  0   0   0   0   0   0   0   0   0   0   0   0   0  81 240 253 253 119\n",
      "   25   0   0   0   0   0   0   0   0   0]\n",
      " [  0   0   0   0   0   0   0   0   0   0   0   0   0   0  45 186 253 253\n",
      "  150  27   0   0   0   0   0   0   0   0]\n",
      " [  0   0   0   0   0   0   0   0   0   0   0   0   0   0   0  16  93 252\n",
      "  253 187   0   0   0   0   0   0   0   0]\n",
      " [  0   0   0   0   0   0   0   0   0   0   0   0   0   0   0   0   0 249\n",
      "  253 249  64   0   0   0   0   0   0   0]\n",
      " [  0   0   0   0   0   0   0   0   0   0   0   0   0   0  46 130 183 253\n",
      "  253 207   2   0   0   0   0   0   0   0]\n",
      " [  0   0   0   0   0   0   0   0   0   0   0   0  39 148 229 253 253 253\n",
      "  250 182   0   0   0   0   0   0   0   0]\n",
      " [  0   0   0   0   0   0   0   0   0   0  24 114 221 253 253 253 253 201\n",
      "   78   0   0   0   0   0   0   0   0   0]\n",
      " [  0   0   0   0   0   0   0   0  23  66 213 253 253 253 253 198  81   2\n",
      "    0   0   0   0   0   0   0   0   0   0]\n",
      " [  0   0   0   0   0   0  18 171 219 253 253 253 253 195  80   9   0   0\n",
      "    0   0   0   0   0   0   0   0   0   0]\n",
      " [  0   0   0   0  55 172 226 253 253 253 253 244 133  11   0   0   0   0\n",
      "    0   0   0   0   0   0   0   0   0   0]\n",
      " [  0   0   0   0 136 253 253 253 212 135 132  16   0   0   0   0   0   0\n",
      "    0   0   0   0   0   0   0   0   0   0]\n",
      " [  0   0   0   0   0   0   0   0   0   0   0   0   0   0   0   0   0   0\n",
      "    0   0   0   0   0   0   0   0   0   0]\n",
      " [  0   0   0   0   0   0   0   0   0   0   0   0   0   0   0   0   0   0\n",
      "    0   0   0   0   0   0   0   0   0   0]\n",
      " [  0   0   0   0   0   0   0   0   0   0   0   0   0   0   0   0   0   0\n",
      "    0   0   0   0   0   0   0   0   0   0]]\n"
     ]
    }
   ],
   "source": [
    "print(x_train[0])"
   ]
  },
  {
   "cell_type": "code",
   "execution_count": 7,
   "metadata": {},
   "outputs": [
    {
     "data": {
      "text/plain": [
       "<matplotlib.image.AxesImage at 0x2491de63490>"
      ]
     },
     "execution_count": 7,
     "metadata": {},
     "output_type": "execute_result"
    },
    {
     "data": {
      "image/png": "[encoded data removed]",
      "text/plain": [
       "<Figure size 640x480 with 1 Axes>"
      ]
     },
     "metadata": {},
     "output_type": "display_data"
    }
   ],
   "source": [
    "x_train = tf.keras.utils.normalize(x_train, axis = 1)\n",
    "x_test = tf.keras.utils.normalize(x_test, axis = 1)\n",
    "plt.imshow(x_train[0], cmap = plt.cm.binary)"
   ]
  },
  {
   "cell_type": "code",
   "execution_count": 8,
   "metadata": {},
   "outputs": [
    {
     "name": "stdout",
     "output_type": "stream",
     "text": [
      "[[0.         0.         0.         0.         0.         0.\n",
      "  0.         0.         0.         0.         0.         0.\n",
      "  0.         0.         0.         0.         0.         0.\n",
      "  0.         0.         0.         0.         0.         0.\n",
      "  0.         0.         0.         0.        ]\n",
      " [0.         0.         0.         0.         0.         0.\n",
      "  0.         0.         0.         0.         0.         0.\n",
      "  0.         0.         0.         0.         0.         0.\n",
      "  0.         0.         0.         0.         0.         0.\n",
      "  0.         0.         0.         0.        ]\n",
      " [0.         0.         0.         0.         0.         0.\n",
      "  0.         0.         0.         0.         0.         0.\n",
      "  0.         0.         0.         0.         0.         0.\n",
      "  0.         0.         0.         0.         0.         0.\n",
      "  0.         0.         0.         0.        ]\n",
      " [0.         0.         0.         0.         0.         0.\n",
      "  0.         0.         0.         0.         0.         0.\n",
      "  0.         0.         0.         0.         0.         0.\n",
      "  0.         0.         0.         0.         0.         0.\n",
      "  0.         0.         0.         0.        ]\n",
      " [0.         0.         0.         0.         0.         0.\n",
      "  0.         0.         0.         0.         0.         0.\n",
      "  0.         0.         0.         0.         0.         0.\n",
      "  0.         0.         0.         0.         0.         0.\n",
      "  0.         0.         0.         0.        ]\n",
      " [0.         0.         0.         0.         0.         0.\n",
      "  0.         0.         0.         0.         0.         0.\n",
      "  0.00393124 0.02332955 0.02620568 0.02625207 0.17420356 0.17566281\n",
      "  0.28629534 0.05664824 0.51877786 0.71632322 0.77892406 0.89301644\n",
      "  0.         0.         0.         0.        ]\n",
      " [0.         0.         0.         0.         0.         0.\n",
      "  0.         0.         0.05780486 0.06524513 0.16128198 0.22713296\n",
      "  0.22277047 0.32790981 0.36833534 0.3689874  0.34978968 0.32678448\n",
      "  0.368094   0.3747499  0.79066747 0.67980478 0.61494005 0.45002403\n",
      "  0.         0.         0.         0.        ]\n",
      " [0.         0.         0.         0.         0.         0.\n",
      "  0.         0.12250613 0.45858525 0.45852825 0.43408872 0.37314701\n",
      "  0.33153488 0.32790981 0.36833534 0.3689874  0.34978968 0.32420121\n",
      "  0.15214552 0.17865984 0.25626376 0.1573102  0.12298801 0.\n",
      "  0.         0.         0.         0.        ]\n",
      " [0.         0.         0.         0.         0.         0.\n",
      "  0.         0.04500225 0.4219755  0.45852825 0.43408872 0.37314701\n",
      "  0.33153488 0.32790981 0.28826244 0.26543758 0.34149427 0.31128482\n",
      "  0.         0.         0.         0.         0.         0.\n",
      "  0.         0.         0.         0.        ]\n",
      " [0.         0.         0.         0.         0.         0.\n",
      "  0.         0.         0.1541463  0.28272888 0.18358693 0.37314701\n",
      "  0.33153488 0.26569767 0.01601458 0.         0.05945042 0.19891229\n",
      "  0.         0.         0.         0.         0.         0.\n",
      "  0.         0.         0.         0.        ]\n",
      " [0.         0.         0.         0.         0.         0.\n",
      "  0.         0.         0.         0.0253731  0.00171577 0.22713296\n",
      "  0.33153488 0.11664776 0.         0.         0.         0.\n",
      "  0.         0.         0.         0.         0.         0.\n",
      "  0.         0.         0.         0.        ]\n",
      " [0.         0.         0.         0.         0.         0.\n",
      "  0.         0.         0.         0.         0.         0.20500962\n",
      "  0.33153488 0.24625638 0.00291174 0.         0.         0.\n",
      "  0.         0.         0.         0.         0.         0.\n",
      "  0.         0.         0.         0.        ]\n",
      " [0.         0.         0.         0.         0.         0.\n",
      "  0.         0.         0.         0.         0.         0.01622378\n",
      "  0.24897876 0.32790981 0.10191096 0.         0.         0.\n",
      "  0.         0.         0.         0.         0.         0.\n",
      "  0.         0.         0.         0.        ]\n",
      " [0.         0.         0.         0.         0.         0.\n",
      "  0.         0.         0.         0.         0.         0.\n",
      "  0.04586451 0.31235677 0.32757096 0.23335172 0.14931733 0.00129164\n",
      "  0.         0.         0.         0.         0.         0.\n",
      "  0.         0.         0.         0.        ]\n",
      " [0.         0.         0.         0.         0.         0.\n",
      "  0.         0.         0.         0.         0.         0.\n",
      "  0.         0.10498298 0.34940902 0.3689874  0.34978968 0.15370495\n",
      "  0.04089933 0.         0.         0.         0.         0.\n",
      "  0.         0.         0.         0.        ]\n",
      " [0.         0.         0.         0.         0.         0.\n",
      "  0.         0.         0.         0.         0.         0.\n",
      "  0.         0.         0.06551419 0.27127137 0.34978968 0.32678448\n",
      "  0.245396   0.05882702 0.         0.         0.         0.\n",
      "  0.         0.         0.         0.        ]\n",
      " [0.         0.         0.         0.         0.         0.\n",
      "  0.         0.         0.         0.         0.         0.\n",
      "  0.         0.         0.         0.02333517 0.12857881 0.32549285\n",
      "  0.41390126 0.40743158 0.         0.         0.         0.\n",
      "  0.         0.         0.         0.        ]\n",
      " [0.         0.         0.         0.         0.         0.\n",
      "  0.         0.         0.         0.         0.         0.\n",
      "  0.         0.         0.         0.         0.         0.32161793\n",
      "  0.41390126 0.54251585 0.20001074 0.         0.         0.\n",
      "  0.         0.         0.         0.        ]\n",
      " [0.         0.         0.         0.         0.         0.\n",
      "  0.         0.         0.         0.         0.         0.\n",
      "  0.         0.         0.06697006 0.18959827 0.25300993 0.32678448\n",
      "  0.41390126 0.45100715 0.00625034 0.         0.         0.\n",
      "  0.         0.         0.         0.        ]\n",
      " [0.         0.         0.         0.         0.         0.\n",
      "  0.         0.         0.         0.         0.         0.\n",
      "  0.05110617 0.19182076 0.33339444 0.3689874  0.34978968 0.32678448\n",
      "  0.40899334 0.39653769 0.         0.         0.         0.\n",
      "  0.         0.         0.         0.        ]\n",
      " [0.         0.         0.         0.         0.         0.\n",
      "  0.         0.         0.         0.         0.04117838 0.16813739\n",
      "  0.28960162 0.32790981 0.36833534 0.3689874  0.34978968 0.25961929\n",
      "  0.12760592 0.         0.         0.         0.         0.\n",
      "  0.         0.         0.         0.        ]\n",
      " [0.         0.         0.         0.         0.         0.\n",
      "  0.         0.         0.04431706 0.11961607 0.36545809 0.37314701\n",
      "  0.33153488 0.32790981 0.36833534 0.28877275 0.111988   0.00258328\n",
      "  0.         0.         0.         0.         0.         0.\n",
      "  0.         0.         0.         0.        ]\n",
      " [0.         0.         0.         0.         0.         0.\n",
      "  0.05298497 0.42752138 0.4219755  0.45852825 0.43408872 0.37314701\n",
      "  0.33153488 0.25273681 0.11646967 0.01312603 0.         0.\n",
      "  0.         0.         0.         0.         0.         0.\n",
      "  0.         0.         0.         0.        ]\n",
      " [0.         0.         0.         0.         0.37491383 0.56222061\n",
      "  0.66525569 0.63253163 0.48748768 0.45852825 0.43408872 0.359873\n",
      "  0.17428513 0.01425695 0.         0.         0.         0.\n",
      "  0.         0.         0.         0.         0.         0.\n",
      "  0.         0.         0.         0.        ]\n",
      " [0.         0.         0.         0.         0.92705966 0.82698729\n",
      "  0.74473314 0.63253163 0.4084877  0.24466922 0.22648107 0.02359823\n",
      "  0.         0.         0.         0.         0.         0.\n",
      "  0.         0.         0.         0.         0.         0.\n",
      "  0.         0.         0.         0.        ]\n",
      " [0.         0.         0.         0.         0.         0.\n",
      "  0.         0.         0.         0.         0.         0.\n",
      "  0.         0.         0.         0.         0.         0.\n",
      "  0.         0.         0.         0.         0.         0.\n",
      "  0.         0.         0.         0.        ]\n",
      " [0.         0.         0.         0.         0.         0.\n",
      "  0.         0.         0.         0.         0.         0.\n",
      "  0.         0.         0.         0.         0.         0.\n",
      "  0.         0.         0.         0.         0.         0.\n",
      "  0.         0.         0.         0.        ]\n",
      " [0.         0.         0.         0.         0.         0.\n",
      "  0.         0.         0.         0.         0.         0.\n",
      "  0.         0.         0.         0.         0.         0.\n",
      "  0.         0.         0.         0.         0.         0.\n",
      "  0.         0.         0.         0.        ]]\n"
     ]
    }
   ],
   "source": [
    "print(x_train[0])"
   ]
  },
  {
   "cell_type": "code",
   "execution_count": 9,
   "metadata": {},
   "outputs": [
    {
     "name": "stdout",
     "output_type": "stream",
     "text": [
      "5\n"
     ]
    }
   ],
   "source": [
    "print(y_train[0])"
   ]
  },
  {
   "cell_type": "code",
   "execution_count": 10,
   "metadata": {},
   "outputs": [
    {
     "name": "stdout",
     "output_type": "stream",
     "text": [
      "Training samples dimension (60000, 28, 28, 1)\n",
      "Testing samples dimension (10000, 28, 28, 1)\n"
     ]
    }
   ],
   "source": [
    "import numpy as np\n",
    "IMG_SIZE = 28\n",
    "x_trainr = np.array(x_train).reshape(-1, IMG_SIZE, IMG_SIZE, 1)\n",
    "x_testr = np.array(x_test).reshape(-1, IMG_SIZE, IMG_SIZE, 1)\n",
    "print(\"Training samples dimension\", x_trainr.shape)\n",
    "print(\"Testing samples dimension\", x_testr.shape)"
   ]
  },
  {
   "cell_type": "code",
   "execution_count": 11,
   "metadata": {},
   "outputs": [],
   "source": [
    "from tensorflow.keras.models import Sequential\n",
    "from tensorflow.keras.layers import Dense, Dropout, Activation, Flatten, Conv2D, MaxPooling2D"
   ]
  },
  {
   "cell_type": "code",
   "execution_count": 12,
   "metadata": {},
   "outputs": [
    {
     "name": "stdout",
     "output_type": "stream",
     "text": [
      "WARNING:tensorflow:From c:\\Users\\Abhay Kumar\\anaconda3\\Lib\\site-packages\\keras\\src\\backend.py:873: The name tf.get_default_graph is deprecated. Please use tf.compat.v1.get_default_graph instead.\n",
      "\n",
      "WARNING:tensorflow:From c:\\Users\\Abhay Kumar\\anaconda3\\Lib\\site-packages\\keras\\src\\layers\\pooling\\max_pooling2d.py:161: The name tf.nn.max_pool is deprecated. Please use tf.nn.max_pool2d instead.\n",
      "\n"
     ]
    }
   ],
   "source": [
    "model = Sequential()\n",
    "model.add(Conv2D(64, (3, 3), input_shape = x_trainr.shape[1:]))\n",
    "model.add(Activation(\"relu\"))\n",
    "model.add(MaxPooling2D(pool_size=(2,2)))"
   ]
  },
  {
   "cell_type": "code",
   "execution_count": 13,
   "metadata": {},
   "outputs": [],
   "source": [
    "model.add(Conv2D(64, (3, 3)))\n",
    "model.add(Activation(\"relu\"))\n",
    "model.add(MaxPooling2D(pool_size=(2,2)))\n",
    "\n",
    "model.add(Conv2D(64, (3, 3), input_shape = x_trainr.shape[1:]))\n",
    "model.add(Activation(\"relu\"))\n",
    "model.add(MaxPooling2D(pool_size=(2,2)))\n",
    "\n",
    "model.add(Flatten())\n",
    "model.add(Dense(64))\n",
    "model.add(Activation(\"relu\"))\n",
    "\n",
    "model.add(Dense(32))\n",
    "model.add(Activation(\"relu\"))\n",
    "\n",
    "model.add(Dense(10))\n",
    "model.add(Activation('softmax'))"
   ]
  },
  {
   "cell_type": "code",
   "execution_count": 14,
   "metadata": {},
   "outputs": [
    {
     "name": "stdout",
     "output_type": "stream",
     "text": [
      "Model: \"sequential\"\n",
      "_________________________________________________________________\n",
      " Layer (type)                Output Shape              Param #   \n",
      "=================================================================\n",
      " conv2d (Conv2D)             (None, 26, 26, 64)        640       \n",
      "                                                                 \n",
      " activation (Activation)     (None, 26, 26, 64)        0         \n",
      "                                                                 \n",
      " max_pooling2d (MaxPooling2  (None, 13, 13, 64)        0         \n",
      " D)                                                              \n",
      "                                                                 \n",
      " conv2d_1 (Conv2D)           (None, 11, 11, 64)        36928     \n",
      "                                                                 \n",
      " activation_1 (Activation)   (None, 11, 11, 64)        0         \n",
      "                                                                 \n",
      " max_pooling2d_1 (MaxPoolin  (None, 5, 5, 64)          0         \n",
      " g2D)                                                            \n",
      "                                                                 \n",
      " conv2d_2 (Conv2D)           (None, 3, 3, 64)          36928     \n",
      "                                                                 \n",
      " activation_2 (Activation)   (None, 3, 3, 64)          0         \n",
      "                                                                 \n",
      " max_pooling2d_2 (MaxPoolin  (None, 1, 1, 64)          0         \n",
      " g2D)                                                            \n",
      "                                                                 \n",
      " flatten (Flatten)           (None, 64)                0         \n",
      "                                                                 \n",
      " dense (Dense)               (None, 64)                4160      \n",
      "                                                                 \n",
      " activation_3 (Activation)   (None, 64)                0         \n",
      "                                                                 \n",
      " dense_1 (Dense)             (None, 32)                2080      \n",
      "                                                                 \n",
      " activation_4 (Activation)   (None, 32)                0         \n",
      "                                                                 \n",
      " dense_2 (Dense)             (None, 10)                330       \n",
      "                                                                 \n",
      " activation_5 (Activation)   (None, 10)                0         \n",
      "                                                                 \n",
      "=================================================================\n",
      "Total params: 81066 (316.66 KB)\n",
      "Trainable params: 81066 (316.66 KB)\n",
      "Non-trainable params: 0 (0.00 Byte)\n",
      "_________________________________________________________________\n"
     ]
    }
   ],
   "source": [
    "model.summary()"
   ]
  },
  {
   "cell_type": "code",
   "execution_count": 15,
   "metadata": {},
   "outputs": [
    {
     "name": "stdout",
     "output_type": "stream",
     "text": [
      "Total Training Samples =  60000\n"
     ]
    }
   ],
   "source": [
    "print(\"Total Training Samples = \", len(x_trainr))"
   ]
  },
  {
   "cell_type": "code",
   "execution_count": 16,
   "metadata": {},
   "outputs": [
    {
     "name": "stdout",
     "output_type": "stream",
     "text": [
      "WARNING:tensorflow:From c:\\Users\\Abhay Kumar\\anaconda3\\Lib\\site-packages\\keras\\src\\optimizers\\__init__.py:309: The name tf.train.Optimizer is deprecated. Please use tf.compat.v1.train.Optimizer instead.\n",
      "\n"
     ]
    }
   ],
   "source": [
    "model.compile(loss=\"sparse_categorical_crossentropy\", optimizer=\"adam\", metrics=['accuracy'])"
   ]
  },
  {
   "cell_type": "code",
   "execution_count": 17,
   "metadata": {},
   "outputs": [
    {
     "name": "stdout",
     "output_type": "stream",
     "text": [
      "Epoch 1/5\n",
      "WARNING:tensorflow:From c:\\Users\\Abhay Kumar\\anaconda3\\Lib\\site-packages\\keras\\src\\utils\\tf_utils.py:492: The name tf.ragged.RaggedTensorValue is deprecated. Please use tf.compat.v1.ragged.RaggedTensorValue instead.\n",
      "\n",
      "WARNING:tensorflow:From c:\\Users\\Abhay Kumar\\anaconda3\\Lib\\site-packages\\keras\\src\\engine\\base_layer_utils.py:384: The name tf.executing_eagerly_outside_functions is deprecated. Please use tf.compat.v1.executing_eagerly_outside_functions instead.\n",
      "\n",
      "1313/1313 [==============================] - 14s 10ms/step - loss: 0.3326 - accuracy: 0.8983 - val_loss: 0.1283 - val_accuracy: 0.9618\n",
      "Epoch 2/5\n",
      "1313/1313 [==============================] - 15s 11ms/step - loss: 0.1098 - accuracy: 0.9668 - val_loss: 0.0942 - val_accuracy: 0.9713\n",
      "Epoch 3/5\n",
      "1313/1313 [==============================] - 16s 12ms/step - loss: 0.0770 - accuracy: 0.9764 - val_loss: 0.0769 - val_accuracy: 0.9766\n",
      "Epoch 4/5\n",
      "1313/1313 [==============================] - 16s 12ms/step - loss: 0.0616 - accuracy: 0.9809 - val_loss: 0.0763 - val_accuracy: 0.9767\n",
      "Epoch 5/5\n",
      "1313/1313 [==============================] - 16s 12ms/step - loss: 0.0481 - accuracy: 0.9850 - val_loss: 0.0630 - val_accuracy: 0.9806\n"
     ]
    },
    {
     "data": {
      "text/plain": [
       "<keras.src.callbacks.History at 0x24919e90b10>"
      ]
     },
     "execution_count": 17,
     "metadata": {},
     "output_type": "execute_result"
    }
   ],
   "source": [
    "model.fit(x_trainr, y_train, epochs=5, validation_split=0.3)"
   ]
  },
  {
   "cell_type": "code",
   "execution_count": 18,
   "metadata": {},
   "outputs": [
    {
     "name": "stdout",
     "output_type": "stream",
     "text": [
      "313/313 [==============================] - 1s 4ms/step - loss: 0.0559 - accuracy: 0.9824\n",
      "Test loss on 10,000 test samples 0.055891040712594986\n",
      "Validation accuracy on 10,000 test samples 0.9824000000953674\n"
     ]
    }
   ],
   "source": [
    "test_loss, test_acc = model.evaluate(x_testr, y_test)\n",
    "print(\"Test loss on 10,000 test samples\", test_loss)\n",
    "print(\"Validation accuracy on 10,000 test samples\", test_acc)"
   ]
  },
  {
   "cell_type": "code",
   "execution_count": 19,
   "metadata": {},
   "outputs": [
    {
     "name": "stdout",
     "output_type": "stream",
     "text": [
      "313/313 [==============================] - 1s 4ms/step\n"
     ]
    }
   ],
   "source": [
    "predictions = model.predict([x_testr])\n"
   ]
  },
  {
   "cell_type": "code",
   "execution_count": 20,
   "metadata": {},
   "outputs": [
    {
     "name": "stdout",
     "output_type": "stream",
     "text": [
      "[[5.3902022e-07 1.7073133e-05 1.0171101e-05 ... 9.9996662e-01\n",
      "  2.0981973e-07 3.2627120e-06]\n",
      " [6.1468178e-05 1.9575498e-06 9.9984646e-01 ... 1.2655699e-05\n",
      "  2.7139879e-05 8.3272619e-07]\n",
      " [4.1360636e-07 9.9979001e-01 9.0428337e-08 ... 1.7929186e-06\n",
      "  9.5591786e-05 2.7848992e-06]\n",
      " ...\n",
      " [1.2989528e-08 1.4969510e-07 5.3191023e-08 ... 2.6061584e-06\n",
      "  2.0740124e-05 2.1690506e-05]\n",
      " [3.9995348e-06 2.1155238e-07 1.2053092e-08 ... 8.4874801e-09\n",
      "  1.7983137e-03 2.5151616e-05]\n",
      " [9.8651772e-06 3.1707569e-07 3.2055466e-06 ... 8.2283691e-08\n",
      "  6.2700630e-05 3.5190249e-05]]\n"
     ]
    }
   ],
   "source": [
    "print(predictions)"
   ]
  },
  {
   "cell_type": "code",
   "execution_count": 21,
   "metadata": {},
   "outputs": [
    {
     "name": "stdout",
     "output_type": "stream",
     "text": [
      "7\n"
     ]
    }
   ],
   "source": [
    "print(np.argmax(predictions[0]))"
   ]
  },
  {
   "cell_type": "code",
   "execution_count": 22,
   "metadata": {},
   "outputs": [
    {
     "data": {
      "text/plain": [
       "<matplotlib.image.AxesImage at 0x24919f38390>"
      ]
     },
     "execution_count": 22,
     "metadata": {},
     "output_type": "execute_result"
    },
    {
     "data": {
      "image/png": "[encoded data removed]",
      "text/plain": [
       "<Figure size 640x480 with 1 Axes>"
      ]
     },
     "metadata": {},
     "output_type": "display_data"
    }
   ],
   "source": [
    "plt.imshow(x_test[0])"
   ]
  },
  {
   "cell_type": "code",
   "execution_count": 23,
   "metadata": {},
   "outputs": [
    {
     "name": "stdout",
     "output_type": "stream",
     "text": [
      "8\n"
     ]
    }
   ],
   "source": [
    "print(np.argmax(predictions[128]))"
   ]
  },
  {
   "cell_type": "code",
   "execution_count": 24,
   "metadata": {},
   "outputs": [
    {
     "data": {
      "text/plain": [
       "<matplotlib.image.AxesImage at 0x2491c753190>"
      ]
     },
     "execution_count": 24,
     "metadata": {},
     "output_type": "execute_result"
    },
    {
     "data": {
      "image/png": "[encoded data removed]",
      "text/plain": [
       "<Figure size 640x480 with 1 Axes>"
      ]
     },
     "metadata": {},
     "output_type": "display_data"
    }
   ],
   "source": [
    "plt.imshow(x_test[128])"
   ]
  },
  {
   "cell_type": "code",
   "execution_count": 25,
   "metadata": {},
   "outputs": [],
   "source": [
    "import cv2"
   ]
  },
  {
   "cell_type": "code",
   "execution_count": 26,
   "metadata": {},
   "outputs": [],
   "source": [
    "img = cv2.imread('three.png')"
   ]
  },
  {
   "cell_type": "code",
   "execution_count": 27,
   "metadata": {},
   "outputs": [
    {
     "data": {
      "text/plain": [
       "<matplotlib.image.AxesImage at 0x2491dda0cd0>"
      ]
     },
     "execution_count": 27,
     "metadata": {},
     "output_type": "execute_result"
    },
    {
     "data": {
      "image/png": "[encoded data removed]",
      "text/plain": [
       "<Figure size 640x480 with 1 Axes>"
      ]
     },
     "metadata": {},
     "output_type": "display_data"
    }
   ],
   "source": [
    "plt.imshow(img)"
   ]
  },
  {
   "cell_type": "code",
   "execution_count": 28,
   "metadata": {},
   "outputs": [
    {
     "data": {
      "text/plain": [
       "(677, 421, 3)"
      ]
     },
     "execution_count": 28,
     "metadata": {},
     "output_type": "execute_result"
    }
   ],
   "source": [
    "img.shape"
   ]
  },
  {
   "cell_type": "code",
   "execution_count": 29,
   "metadata": {},
   "outputs": [],
   "source": [
    "gray = cv2.cvtColor(img, cv2.COLOR_BGR2GRAY)"
   ]
  },
  {
   "cell_type": "code",
   "execution_count": 30,
   "metadata": {},
   "outputs": [
    {
     "data": {
      "text/plain": [
       "(677, 421)"
      ]
     },
     "execution_count": 30,
     "metadata": {},
     "output_type": "execute_result"
    }
   ],
   "source": [
    "gray.shape"
   ]
  },
  {
   "cell_type": "code",
   "execution_count": 31,
   "metadata": {},
   "outputs": [],
   "source": [
    "resized = cv2.resize(gray, (28, 28), interpolation = cv2.INTER_AREA)"
   ]
  },
  {
   "cell_type": "code",
   "execution_count": 32,
   "metadata": {},
   "outputs": [
    {
     "data": {
      "text/plain": [
       "(28, 28)"
      ]
     },
     "execution_count": 32,
     "metadata": {},
     "output_type": "execute_result"
    }
   ],
   "source": [
    "resized.shape"
   ]
  },
  {
   "cell_type": "code",
   "execution_count": 33,
   "metadata": {},
   "outputs": [],
   "source": [
    "newimg = tf.keras.utils.normalize(resized, axis=1)"
   ]
  },
  {
   "cell_type": "code",
   "execution_count": 34,
   "metadata": {},
   "outputs": [],
   "source": [
    "newimg = np.array(newimg).reshape(-1, IMG_SIZE, IMG_SIZE, 1)"
   ]
  },
  {
   "cell_type": "code",
   "execution_count": 35,
   "metadata": {},
   "outputs": [
    {
     "data": {
      "text/plain": [
       "(1, 28, 28, 1)"
      ]
     },
     "execution_count": 35,
     "metadata": {},
     "output_type": "execute_result"
    }
   ],
   "source": [
    "newimg.shape"
   ]
  },
  {
   "cell_type": "code",
   "execution_count": 36,
   "metadata": {},
   "outputs": [
    {
     "name": "stdout",
     "output_type": "stream",
     "text": [
      "1/1 [==============================] - 0s 169ms/step\n"
     ]
    }
   ],
   "source": [
    "predictions = model.predict(newimg)"
   ]
  },
  {
   "cell_type": "code",
   "execution_count": 37,
   "metadata": {},
   "outputs": [
    {
     "name": "stdout",
     "output_type": "stream",
     "text": [
      "0\n"
     ]
    }
   ],
   "source": [
    "print(np.argmax(predictions))"
   ]
  },
  {
   "cell_type": "code",
   "execution_count": 50,
   "metadata": {},
   "outputs": [
    {
     "name": "stdout",
     "output_type": "stream",
     "text": [
      "1/1 [==============================] - 0s 26ms/step\n",
      "2\n",
      "<class 'numpy.int64'>\n",
      "1/1 [==============================] - 0s 29ms/step\n",
      "2\n",
      "<class 'numpy.int64'>\n",
      "1/1 [==============================] - 0s 22ms/step\n",
      "2\n",
      "<class 'numpy.int64'>\n",
      "1/1 [==============================] - 0s 13ms/step\n",
      "2\n",
      "<class 'numpy.int64'>\n",
      "1/1 [==============================] - 0s 13ms/step\n",
      "2\n",
      "<class 'numpy.int64'>\n",
      "1/1 [==============================] - 0s 33ms/step\n",
      "2\n",
      "<class 'numpy.int64'>\n",
      "1/1 [==============================] - 0s 30ms/step\n",
      "2\n",
      "<class 'numpy.int64'>\n",
      "1/1 [==============================] - 0s 14ms/step\n",
      "2\n",
      "<class 'numpy.int64'>\n",
      "1/1 [==============================] - 0s 37ms/step\n",
      "2\n",
      "<class 'numpy.int64'>\n",
      "1/1 [==============================] - 0s 18ms/step\n",
      "2\n",
      "<class 'numpy.int64'>\n",
      "1/1 [==============================] - 0s 34ms/step\n",
      "2\n",
      "<class 'numpy.int64'>\n",
      "1/1 [==============================] - 0s 31ms/step\n",
      "2\n",
      "<class 'numpy.int64'>\n",
      "1/1 [==============================] - 0s 24ms/step\n",
      "2\n",
      "<class 'numpy.int64'>\n",
      "1/1 [==============================] - 0s 21ms/step\n",
      "2\n",
      "<class 'numpy.int64'>\n",
      "1/1 [==============================] - 0s 12ms/step\n",
      "2\n",
      "<class 'numpy.int64'>\n",
      "1/1 [==============================] - 0s 10ms/step\n",
      "2\n",
      "<class 'numpy.int64'>\n",
      "1/1 [==============================] - 0s 22ms/step\n",
      "2\n",
      "<class 'numpy.int64'>\n",
      "1/1 [==============================] - 0s 20ms/step\n",
      "2\n",
      "<class 'numpy.int64'>\n",
      "1/1 [==============================] - 0s 20ms/step\n",
      "2\n",
      "<class 'numpy.int64'>\n",
      "1/1 [==============================] - 0s 23ms/step\n",
      "2\n",
      "<class 'numpy.int64'>\n",
      "1/1 [==============================] - 0s 30ms/step\n",
      "2\n",
      "<class 'numpy.int64'>\n",
      "1/1 [==============================] - 0s 24ms/step\n",
      "2\n",
      "<class 'numpy.int64'>\n",
      "1/1 [==============================] - 0s 24ms/step\n",
      "2\n",
      "<class 'numpy.int64'>\n",
      "1/1 [==============================] - 0s 20ms/step\n",
      "2\n",
      "<class 'numpy.int64'>\n",
      "1/1 [==============================] - 0s 32ms/step\n",
      "2\n",
      "<class 'numpy.int64'>\n",
      "1/1 [==============================] - 0s 16ms/step\n",
      "2\n",
      "<class 'numpy.int64'>\n",
      "1/1 [==============================] - 0s 21ms/step\n",
      "2\n",
      "<class 'numpy.int64'>\n",
      "1/1 [==============================] - 0s 27ms/step\n",
      "2\n",
      "<class 'numpy.int64'>\n",
      "1/1 [==============================] - 0s 25ms/step\n",
      "2\n",
      "<class 'numpy.int64'>\n",
      "1/1 [==============================] - 0s 19ms/step\n",
      "2\n",
      "<class 'numpy.int64'>\n",
      "1/1 [==============================] - 0s 18ms/step\n",
      "2\n",
      "<class 'numpy.int64'>\n",
      "1/1 [==============================] - 0s 13ms/step\n",
      "2\n",
      "<class 'numpy.int64'>\n",
      "1/1 [==============================] - 0s 14ms/step\n",
      "2\n",
      "<class 'numpy.int64'>\n",
      "1/1 [==============================] - 0s 25ms/step\n",
      "2\n",
      "<class 'numpy.int64'>\n",
      "1/1 [==============================] - 0s 35ms/step\n",
      "2\n",
      "<class 'numpy.int64'>\n",
      "1/1 [==============================] - 0s 28ms/step\n",
      "2\n",
      "<class 'numpy.int64'>\n",
      "1/1 [==============================] - 0s 22ms/step\n",
      "2\n",
      "<class 'numpy.int64'>\n",
      "1/1 [==============================] - 0s 13ms/step\n",
      "2\n",
      "<class 'numpy.int64'>\n",
      "1/1 [==============================] - 0s 8ms/step\n",
      "2\n",
      "<class 'numpy.int64'>\n",
      "1/1 [==============================] - 0s 31ms/step\n",
      "2\n",
      "<class 'numpy.int64'>\n",
      "1/1 [==============================] - 0s 21ms/step\n",
      "2\n",
      "<class 'numpy.int64'>\n",
      "1/1 [==============================] - 0s 22ms/step\n",
      "2\n",
      "<class 'numpy.int64'>\n",
      "1/1 [==============================] - 0s 13ms/step\n",
      "2\n",
      "<class 'numpy.int64'>\n",
      "1/1 [==============================] - 0s 12ms/step\n",
      "2\n",
      "<class 'numpy.int64'>\n",
      "1/1 [==============================] - 0s 17ms/step\n",
      "2\n",
      "<class 'numpy.int64'>\n",
      "1/1 [==============================] - 0s 17ms/step\n",
      "2\n",
      "<class 'numpy.int64'>\n",
      "1/1 [==============================] - 0s 16ms/step\n",
      "2\n",
      "<class 'numpy.int64'>\n",
      "1/1 [==============================] - 0s 26ms/step\n",
      "2\n",
      "<class 'numpy.int64'>\n",
      "1/1 [==============================] - 0s 37ms/step\n",
      "2\n",
      "<class 'numpy.int64'>\n",
      "1/1 [==============================] - 0s 24ms/step\n",
      "2\n",
      "<class 'numpy.int64'>\n",
      "1/1 [==============================] - 0s 31ms/step\n",
      "2\n",
      "<class 'numpy.int64'>\n",
      "1/1 [==============================] - 0s 19ms/step\n",
      "2\n",
      "<class 'numpy.int64'>\n",
      "1/1 [==============================] - 0s 16ms/step\n",
      "8\n",
      "<class 'numpy.int64'>\n",
      "1/1 [==============================] - 0s 17ms/step\n",
      "2\n",
      "<class 'numpy.int64'>\n",
      "1/1 [==============================] - 0s 25ms/step\n",
      "2\n",
      "<class 'numpy.int64'>\n",
      "1/1 [==============================] - 0s 19ms/step\n",
      "2\n",
      "<class 'numpy.int64'>\n",
      "1/1 [==============================] - 0s 21ms/step\n",
      "2\n",
      "<class 'numpy.int64'>\n",
      "1/1 [==============================] - 0s 21ms/step\n",
      "2\n",
      "<class 'numpy.int64'>\n",
      "1/1 [==============================] - 0s 15ms/step\n",
      "2\n",
      "<class 'numpy.int64'>\n",
      "1/1 [==============================] - 0s 10ms/step\n",
      "2\n",
      "<class 'numpy.int64'>\n",
      "1/1 [==============================] - 0s 21ms/step\n",
      "2\n",
      "<class 'numpy.int64'>\n",
      "1/1 [==============================] - 0s 13ms/step\n",
      "2\n",
      "<class 'numpy.int64'>\n",
      "1/1 [==============================] - 0s 21ms/step\n",
      "2\n",
      "<class 'numpy.int64'>\n",
      "1/1 [==============================] - 0s 34ms/step\n",
      "2\n",
      "<class 'numpy.int64'>\n",
      "1/1 [==============================] - 0s 36ms/step\n",
      "2\n",
      "<class 'numpy.int64'>\n",
      "1/1 [==============================] - 0s 23ms/step\n",
      "2\n",
      "<class 'numpy.int64'>\n",
      "1/1 [==============================] - 0s 22ms/step\n",
      "1\n",
      "<class 'numpy.int64'>\n",
      "1/1 [==============================] - 0s 32ms/step\n",
      "1\n",
      "<class 'numpy.int64'>\n",
      "1/1 [==============================] - 0s 29ms/step\n",
      "1\n",
      "<class 'numpy.int64'>\n",
      "1/1 [==============================] - 0s 26ms/step\n",
      "1\n",
      "<class 'numpy.int64'>\n",
      "1/1 [==============================] - 0s 22ms/step\n",
      "1\n",
      "<class 'numpy.int64'>\n",
      "1/1 [==============================] - 0s 28ms/step\n",
      "1\n",
      "<class 'numpy.int64'>\n",
      "1/1 [==============================] - 0s 16ms/step\n",
      "1\n",
      "<class 'numpy.int64'>\n",
      "1/1 [==============================] - 0s 21ms/step\n",
      "1\n",
      "<class 'numpy.int64'>\n",
      "1/1 [==============================] - 0s 31ms/step\n",
      "1\n",
      "<class 'numpy.int64'>\n",
      "1/1 [==============================] - 0s 23ms/step\n",
      "1\n",
      "<class 'numpy.int64'>\n",
      "1/1 [==============================] - 0s 35ms/step\n",
      "1\n",
      "<class 'numpy.int64'>\n",
      "1/1 [==============================] - 0s 38ms/step\n",
      "1\n",
      "<class 'numpy.int64'>\n",
      "1/1 [==============================] - 0s 44ms/step\n",
      "1\n",
      "<class 'numpy.int64'>\n",
      "1/1 [==============================] - 0s 7ms/step\n",
      "1\n",
      "<class 'numpy.int64'>\n",
      "1/1 [==============================] - 0s 22ms/step\n",
      "1\n",
      "<class 'numpy.int64'>\n",
      "1/1 [==============================] - 0s 22ms/step\n",
      "1\n",
      "<class 'numpy.int64'>\n",
      "1/1 [==============================] - 0s 11ms/step\n",
      "1\n",
      "<class 'numpy.int64'>\n",
      "1/1 [==============================] - 0s 21ms/step\n",
      "1\n",
      "<class 'numpy.int64'>\n",
      "1/1 [==============================] - 0s 31ms/step\n",
      "1\n",
      "<class 'numpy.int64'>\n",
      "1/1 [==============================] - 0s 13ms/step\n",
      "1\n",
      "<class 'numpy.int64'>\n",
      "1/1 [==============================] - 0s 22ms/step\n",
      "1\n",
      "<class 'numpy.int64'>\n",
      "1/1 [==============================] - 0s 33ms/step\n",
      "1\n",
      "<class 'numpy.int64'>\n",
      "1/1 [==============================] - 0s 18ms/step\n",
      "1\n",
      "<class 'numpy.int64'>\n",
      "1/1 [==============================] - 0s 28ms/step\n",
      "1\n",
      "<class 'numpy.int64'>\n",
      "1/1 [==============================] - 0s 43ms/step\n",
      "1\n",
      "<class 'numpy.int64'>\n",
      "1/1 [==============================] - 0s 21ms/step\n",
      "1\n",
      "<class 'numpy.int64'>\n",
      "1/1 [==============================] - 0s 18ms/step\n",
      "1\n",
      "<class 'numpy.int64'>\n",
      "1/1 [==============================] - 0s 25ms/step\n",
      "1\n",
      "<class 'numpy.int64'>\n",
      "1/1 [==============================] - 0s 22ms/step\n",
      "1\n",
      "<class 'numpy.int64'>\n",
      "1/1 [==============================] - 0s 25ms/step\n",
      "1\n",
      "<class 'numpy.int64'>\n",
      "1/1 [==============================] - 0s 17ms/step\n",
      "1\n",
      "<class 'numpy.int64'>\n",
      "1/1 [==============================] - 0s 32ms/step\n",
      "2\n",
      "<class 'numpy.int64'>\n",
      "1/1 [==============================] - 0s 9ms/step\n",
      "2\n",
      "<class 'numpy.int64'>\n",
      "1/1 [==============================] - 0s 22ms/step\n",
      "2\n",
      "<class 'numpy.int64'>\n",
      "1/1 [==============================] - 0s 17ms/step\n",
      "2\n",
      "<class 'numpy.int64'>\n",
      "1/1 [==============================] - 0s 24ms/step\n",
      "2\n",
      "<class 'numpy.int64'>\n",
      "1/1 [==============================] - 0s 16ms/step\n",
      "2\n",
      "<class 'numpy.int64'>\n",
      "1/1 [==============================] - 0s 35ms/step\n",
      "2\n",
      "<class 'numpy.int64'>\n",
      "1/1 [==============================] - 0s 21ms/step\n",
      "2\n",
      "<class 'numpy.int64'>\n",
      "1/1 [==============================] - 0s 33ms/step\n",
      "2\n",
      "<class 'numpy.int64'>\n",
      "1/1 [==============================] - 0s 22ms/step\n",
      "2\n",
      "<class 'numpy.int64'>\n",
      "1/1 [==============================] - 0s 18ms/step\n",
      "2\n",
      "<class 'numpy.int64'>\n",
      "1/1 [==============================] - 0s 26ms/step\n",
      "2\n",
      "<class 'numpy.int64'>\n",
      "1/1 [==============================] - 0s 22ms/step\n",
      "2\n",
      "<class 'numpy.int64'>\n",
      "1/1 [==============================] - 0s 21ms/step\n",
      "8\n",
      "<class 'numpy.int64'>\n",
      "1/1 [==============================] - 0s 12ms/step\n",
      "8\n",
      "<class 'numpy.int64'>\n",
      "1/1 [==============================] - 0s 25ms/step\n",
      "2\n",
      "<class 'numpy.int64'>\n",
      "1/1 [==============================] - 0s 18ms/step\n",
      "2\n",
      "<class 'numpy.int64'>\n",
      "1/1 [==============================] - 0s 25ms/step\n",
      "2\n",
      "<class 'numpy.int64'>\n",
      "1/1 [==============================] - 0s 12ms/step\n",
      "2\n",
      "<class 'numpy.int64'>\n",
      "1/1 [==============================] - 0s 21ms/step\n",
      "2\n",
      "<class 'numpy.int64'>\n",
      "1/1 [==============================] - 0s 39ms/step\n",
      "2\n",
      "<class 'numpy.int64'>\n",
      "1/1 [==============================] - 0s 21ms/step\n",
      "2\n",
      "<class 'numpy.int64'>\n",
      "1/1 [==============================] - 0s 15ms/step\n",
      "2\n",
      "<class 'numpy.int64'>\n",
      "1/1 [==============================] - 0s 24ms/step\n",
      "2\n",
      "<class 'numpy.int64'>\n",
      "1/1 [==============================] - 0s 34ms/step\n",
      "2\n",
      "<class 'numpy.int64'>\n",
      "1/1 [==============================] - 0s 26ms/step\n",
      "2\n",
      "<class 'numpy.int64'>\n",
      "1/1 [==============================] - 0s 10ms/step\n",
      "2\n",
      "<class 'numpy.int64'>\n",
      "1/1 [==============================] - 0s 12ms/step\n",
      "2\n",
      "<class 'numpy.int64'>\n",
      "1/1 [==============================] - 0s 17ms/step\n",
      "2\n",
      "<class 'numpy.int64'>\n",
      "1/1 [==============================] - 0s 27ms/step\n",
      "2\n",
      "<class 'numpy.int64'>\n",
      "1/1 [==============================] - 0s 44ms/step\n",
      "2\n",
      "<class 'numpy.int64'>\n",
      "1/1 [==============================] - 0s 14ms/step\n",
      "2\n",
      "<class 'numpy.int64'>\n",
      "1/1 [==============================] - 0s 21ms/step\n",
      "2\n",
      "<class 'numpy.int64'>\n",
      "1/1 [==============================] - 0s 25ms/step\n",
      "2\n",
      "<class 'numpy.int64'>\n",
      "1/1 [==============================] - 0s 24ms/step\n",
      "2\n",
      "<class 'numpy.int64'>\n",
      "1/1 [==============================] - 0s 24ms/step\n",
      "2\n",
      "<class 'numpy.int64'>\n",
      "1/1 [==============================] - 0s 21ms/step\n",
      "2\n",
      "<class 'numpy.int64'>\n",
      "1/1 [==============================] - 0s 24ms/step\n",
      "2\n",
      "<class 'numpy.int64'>\n",
      "1/1 [==============================] - 0s 12ms/step\n",
      "2\n",
      "<class 'numpy.int64'>\n",
      "1/1 [==============================] - 0s 21ms/step\n",
      "2\n",
      "<class 'numpy.int64'>\n",
      "1/1 [==============================] - 0s 24ms/step\n",
      "2\n",
      "<class 'numpy.int64'>\n",
      "1/1 [==============================] - 0s 22ms/step\n",
      "2\n",
      "<class 'numpy.int64'>\n",
      "1/1 [==============================] - 0s 22ms/step\n",
      "2\n",
      "<class 'numpy.int64'>\n",
      "1/1 [==============================] - 0s 25ms/step\n",
      "2\n",
      "<class 'numpy.int64'>\n",
      "1/1 [==============================] - 0s 11ms/step\n",
      "8\n",
      "<class 'numpy.int64'>\n",
      "1/1 [==============================] - 0s 33ms/step\n",
      "2\n",
      "<class 'numpy.int64'>\n",
      "1/1 [==============================] - 0s 26ms/step\n",
      "2\n",
      "<class 'numpy.int64'>\n",
      "1/1 [==============================] - 0s 16ms/step\n",
      "8\n",
      "<class 'numpy.int64'>\n",
      "1/1 [==============================] - 0s 14ms/step\n",
      "8\n",
      "<class 'numpy.int64'>\n",
      "1/1 [==============================] - 0s 24ms/step\n",
      "8\n",
      "<class 'numpy.int64'>\n",
      "1/1 [==============================] - 0s 21ms/step\n",
      "8\n",
      "<class 'numpy.int64'>\n",
      "1/1 [==============================] - 0s 23ms/step\n",
      "8\n",
      "<class 'numpy.int64'>\n",
      "1/1 [==============================] - 0s 11ms/step\n",
      "8\n",
      "<class 'numpy.int64'>\n",
      "1/1 [==============================] - 0s 11ms/step\n",
      "8\n",
      "<class 'numpy.int64'>\n",
      "1/1 [==============================] - 0s 24ms/step\n",
      "8\n",
      "<class 'numpy.int64'>\n",
      "1/1 [==============================] - 0s 17ms/step\n",
      "2\n",
      "<class 'numpy.int64'>\n",
      "1/1 [==============================] - 0s 23ms/step\n",
      "8\n",
      "<class 'numpy.int64'>\n",
      "1/1 [==============================] - 0s 16ms/step\n",
      "8\n",
      "<class 'numpy.int64'>\n",
      "1/1 [==============================] - 0s 26ms/step\n",
      "8\n",
      "<class 'numpy.int64'>\n",
      "1/1 [==============================] - 0s 34ms/step\n",
      "8\n",
      "<class 'numpy.int64'>\n",
      "1/1 [==============================] - 0s 38ms/step\n",
      "8\n",
      "<class 'numpy.int64'>\n",
      "1/1 [==============================] - 0s 31ms/step\n",
      "8\n",
      "<class 'numpy.int64'>\n",
      "1/1 [==============================] - 0s 22ms/step\n",
      "8\n",
      "<class 'numpy.int64'>\n",
      "1/1 [==============================] - 0s 32ms/step\n",
      "8\n",
      "<class 'numpy.int64'>\n",
      "1/1 [==============================] - 0s 24ms/step\n",
      "8\n",
      "<class 'numpy.int64'>\n",
      "1/1 [==============================] - 0s 12ms/step\n",
      "8\n",
      "<class 'numpy.int64'>\n",
      "1/1 [==============================] - 0s 27ms/step\n",
      "8\n",
      "<class 'numpy.int64'>\n",
      "1/1 [==============================] - 0s 17ms/step\n",
      "8\n",
      "<class 'numpy.int64'>\n",
      "1/1 [==============================] - 0s 21ms/step\n",
      "3\n",
      "<class 'numpy.int64'>\n",
      "1/1 [==============================] - 0s 25ms/step\n",
      "3\n",
      "<class 'numpy.int64'>\n",
      "1/1 [==============================] - 0s 20ms/step\n",
      "3\n",
      "<class 'numpy.int64'>\n",
      "1/1 [==============================] - 0s 33ms/step\n",
      "3\n",
      "<class 'numpy.int64'>\n",
      "1/1 [==============================] - 0s 16ms/step\n",
      "3\n",
      "<class 'numpy.int64'>\n",
      "1/1 [==============================] - 0s 22ms/step\n",
      "3\n",
      "<class 'numpy.int64'>\n",
      "1/1 [==============================] - 0s 25ms/step\n",
      "3\n",
      "<class 'numpy.int64'>\n",
      "1/1 [==============================] - 0s 11ms/step\n",
      "3\n",
      "<class 'numpy.int64'>\n",
      "1/1 [==============================] - 0s 9ms/step\n",
      "3\n",
      "<class 'numpy.int64'>\n",
      "1/1 [==============================] - 0s 20ms/step\n",
      "3\n",
      "<class 'numpy.int64'>\n",
      "1/1 [==============================] - 0s 17ms/step\n",
      "3\n",
      "<class 'numpy.int64'>\n",
      "1/1 [==============================] - 0s 16ms/step\n",
      "3\n",
      "<class 'numpy.int64'>\n",
      "1/1 [==============================] - 0s 31ms/step\n",
      "3\n",
      "<class 'numpy.int64'>\n",
      "1/1 [==============================] - 0s 21ms/step\n",
      "3\n",
      "<class 'numpy.int64'>\n",
      "1/1 [==============================] - 0s 37ms/step\n",
      "3\n",
      "<class 'numpy.int64'>\n",
      "1/1 [==============================] - 0s 28ms/step\n",
      "3\n",
      "<class 'numpy.int64'>\n",
      "1/1 [==============================] - 0s 17ms/step\n",
      "3\n",
      "<class 'numpy.int64'>\n",
      "1/1 [==============================] - 0s 21ms/step\n",
      "3\n",
      "<class 'numpy.int64'>\n",
      "1/1 [==============================] - 0s 34ms/step\n",
      "3\n",
      "<class 'numpy.int64'>\n",
      "1/1 [==============================] - 0s 24ms/step\n",
      "3\n",
      "<class 'numpy.int64'>\n",
      "1/1 [==============================] - 0s 39ms/step\n",
      "3\n",
      "<class 'numpy.int64'>\n",
      "1/1 [==============================] - 0s 8ms/step\n",
      "2\n",
      "<class 'numpy.int64'>\n",
      "1/1 [==============================] - 0s 22ms/step\n",
      "2\n",
      "<class 'numpy.int64'>\n",
      "1/1 [==============================] - 0s 25ms/step\n",
      "2\n",
      "<class 'numpy.int64'>\n",
      "1/1 [==============================] - 0s 34ms/step\n",
      "2\n",
      "<class 'numpy.int64'>\n",
      "1/1 [==============================] - 0s 14ms/step\n",
      "8\n",
      "<class 'numpy.int64'>\n",
      "1/1 [==============================] - 0s 19ms/step\n",
      "8\n",
      "<class 'numpy.int64'>\n",
      "1/1 [==============================] - 0s 16ms/step\n",
      "8\n",
      "<class 'numpy.int64'>\n",
      "1/1 [==============================] - 0s 23ms/step\n",
      "8\n",
      "<class 'numpy.int64'>\n",
      "1/1 [==============================] - 0s 31ms/step\n",
      "8\n",
      "<class 'numpy.int64'>\n",
      "1/1 [==============================] - 0s 36ms/step\n",
      "8\n",
      "<class 'numpy.int64'>\n",
      "1/1 [==============================] - 0s 21ms/step\n",
      "8\n",
      "<class 'numpy.int64'>\n",
      "1/1 [==============================] - 0s 24ms/step\n",
      "8\n",
      "<class 'numpy.int64'>\n",
      "1/1 [==============================] - 0s 27ms/step\n",
      "8\n",
      "<class 'numpy.int64'>\n",
      "1/1 [==============================] - 0s 22ms/step\n",
      "2\n",
      "<class 'numpy.int64'>\n",
      "1/1 [==============================] - 0s 23ms/step\n",
      "6\n",
      "<class 'numpy.int64'>\n",
      "1/1 [==============================] - 0s 22ms/step\n",
      "2\n",
      "<class 'numpy.int64'>\n",
      "1/1 [==============================] - 0s 15ms/step\n",
      "6\n",
      "<class 'numpy.int64'>\n",
      "1/1 [==============================] - 0s 17ms/step\n",
      "6\n",
      "<class 'numpy.int64'>\n",
      "1/1 [==============================] - 0s 10ms/step\n",
      "6\n",
      "<class 'numpy.int64'>\n",
      "1/1 [==============================] - 0s 28ms/step\n",
      "6\n",
      "<class 'numpy.int64'>\n",
      "1/1 [==============================] - 0s 23ms/step\n",
      "6\n",
      "<class 'numpy.int64'>\n",
      "1/1 [==============================] - 0s 15ms/step\n",
      "6\n",
      "<class 'numpy.int64'>\n",
      "1/1 [==============================] - 0s 16ms/step\n",
      "2\n",
      "<class 'numpy.int64'>\n",
      "1/1 [==============================] - 0s 16ms/step\n",
      "2\n",
      "<class 'numpy.int64'>\n",
      "1/1 [==============================] - 0s 36ms/step\n",
      "2\n",
      "<class 'numpy.int64'>\n",
      "1/1 [==============================] - 0s 29ms/step\n",
      "2\n",
      "<class 'numpy.int64'>\n",
      "1/1 [==============================] - 0s 16ms/step\n",
      "2\n",
      "<class 'numpy.int64'>\n",
      "1/1 [==============================] - 0s 23ms/step\n",
      "8\n",
      "<class 'numpy.int64'>\n",
      "1/1 [==============================] - 0s 33ms/step\n",
      "2\n",
      "<class 'numpy.int64'>\n",
      "1/1 [==============================] - 0s 26ms/step\n",
      "5\n",
      "<class 'numpy.int64'>\n",
      "1/1 [==============================] - 0s 22ms/step\n",
      "5\n",
      "<class 'numpy.int64'>\n",
      "1/1 [==============================] - 0s 31ms/step\n",
      "5\n",
      "<class 'numpy.int64'>\n",
      "1/1 [==============================] - 0s 22ms/step\n",
      "5\n",
      "<class 'numpy.int64'>\n",
      "1/1 [==============================] - 0s 25ms/step\n",
      "5\n",
      "<class 'numpy.int64'>\n",
      "1/1 [==============================] - 0s 22ms/step\n",
      "5\n",
      "<class 'numpy.int64'>\n",
      "1/1 [==============================] - 0s 13ms/step\n",
      "5\n",
      "<class 'numpy.int64'>\n",
      "1/1 [==============================] - 0s 14ms/step\n",
      "5\n",
      "<class 'numpy.int64'>\n",
      "1/1 [==============================] - 0s 9ms/step\n",
      "5\n",
      "<class 'numpy.int64'>\n",
      "1/1 [==============================] - 0s 35ms/step\n",
      "5\n",
      "<class 'numpy.int64'>\n",
      "1/1 [==============================] - 0s 26ms/step\n",
      "5\n",
      "<class 'numpy.int64'>\n",
      "1/1 [==============================] - 0s 7ms/step\n",
      "5\n",
      "<class 'numpy.int64'>\n",
      "1/1 [==============================] - 0s 21ms/step\n",
      "5\n",
      "<class 'numpy.int64'>\n",
      "1/1 [==============================] - 0s 33ms/step\n",
      "5\n",
      "<class 'numpy.int64'>\n",
      "1/1 [==============================] - 0s 40ms/step\n",
      "5\n",
      "<class 'numpy.int64'>\n",
      "1/1 [==============================] - 0s 11ms/step\n",
      "5\n",
      "<class 'numpy.int64'>\n",
      "1/1 [==============================] - 0s 11ms/step\n",
      "5\n",
      "<class 'numpy.int64'>\n",
      "1/1 [==============================] - 0s 26ms/step\n",
      "2\n",
      "<class 'numpy.int64'>\n",
      "1/1 [==============================] - 0s 17ms/step\n",
      "2\n",
      "<class 'numpy.int64'>\n",
      "1/1 [==============================] - 0s 21ms/step\n",
      "2\n",
      "<class 'numpy.int64'>\n",
      "1/1 [==============================] - 0s 16ms/step\n",
      "2\n",
      "<class 'numpy.int64'>\n",
      "1/1 [==============================] - 0s 8ms/step\n",
      "2\n",
      "<class 'numpy.int64'>\n",
      "1/1 [==============================] - 0s 16ms/step\n",
      "2\n",
      "<class 'numpy.int64'>\n",
      "1/1 [==============================] - 0s 50ms/step\n",
      "2\n",
      "<class 'numpy.int64'>\n",
      "1/1 [==============================] - 0s 38ms/step\n",
      "8\n",
      "<class 'numpy.int64'>\n",
      "1/1 [==============================] - 0s 22ms/step\n",
      "8\n",
      "<class 'numpy.int64'>\n",
      "1/1 [==============================] - 0s 34ms/step\n",
      "8\n",
      "<class 'numpy.int64'>\n",
      "1/1 [==============================] - 0s 22ms/step\n",
      "6\n",
      "<class 'numpy.int64'>\n",
      "1/1 [==============================] - 0s 34ms/step\n",
      "6\n",
      "<class 'numpy.int64'>\n",
      "1/1 [==============================] - 0s 11ms/step\n",
      "6\n",
      "<class 'numpy.int64'>\n",
      "1/1 [==============================] - 0s 32ms/step\n",
      "6\n",
      "<class 'numpy.int64'>\n",
      "1/1 [==============================] - 0s 15ms/step\n",
      "6\n",
      "<class 'numpy.int64'>\n",
      "1/1 [==============================] - 0s 18ms/step\n",
      "9\n",
      "<class 'numpy.int64'>\n",
      "1/1 [==============================] - 0s 15ms/step\n",
      "9\n",
      "<class 'numpy.int64'>\n",
      "1/1 [==============================] - 0s 11ms/step\n",
      "9\n",
      "<class 'numpy.int64'>\n",
      "1/1 [==============================] - 0s 16ms/step\n",
      "9\n",
      "<class 'numpy.int64'>\n",
      "1/1 [==============================] - 0s 23ms/step\n",
      "9\n",
      "<class 'numpy.int64'>\n",
      "1/1 [==============================] - 0s 25ms/step\n",
      "9\n",
      "<class 'numpy.int64'>\n",
      "1/1 [==============================] - 0s 35ms/step\n",
      "9\n",
      "<class 'numpy.int64'>\n",
      "1/1 [==============================] - 0s 10ms/step\n",
      "9\n",
      "<class 'numpy.int64'>\n",
      "1/1 [==============================] - 0s 23ms/step\n",
      "9\n",
      "<class 'numpy.int64'>\n",
      "1/1 [==============================] - 0s 34ms/step\n",
      "9\n",
      "<class 'numpy.int64'>\n",
      "1/1 [==============================] - 0s 34ms/step\n",
      "9\n",
      "<class 'numpy.int64'>\n",
      "1/1 [==============================] - 0s 29ms/step\n",
      "9\n",
      "<class 'numpy.int64'>\n",
      "1/1 [==============================] - 0s 23ms/step\n",
      "9\n",
      "<class 'numpy.int64'>\n",
      "1/1 [==============================] - 0s 24ms/step\n",
      "6\n",
      "<class 'numpy.int64'>\n",
      "1/1 [==============================] - 0s 23ms/step\n",
      "6\n",
      "<class 'numpy.int64'>\n",
      "1/1 [==============================] - 0s 34ms/step\n",
      "6\n",
      "<class 'numpy.int64'>\n",
      "1/1 [==============================] - 0s 13ms/step\n",
      "0\n",
      "<class 'numpy.int64'>\n",
      "1/1 [==============================] - 0s 11ms/step\n",
      "9\n",
      "<class 'numpy.int64'>\n",
      "1/1 [==============================] - 0s 11ms/step\n",
      "9\n",
      "<class 'numpy.int64'>\n",
      "1/1 [==============================] - 0s 32ms/step\n",
      "9\n",
      "<class 'numpy.int64'>\n",
      "1/1 [==============================] - 0s 23ms/step\n",
      "9\n",
      "<class 'numpy.int64'>\n",
      "1/1 [==============================] - 0s 36ms/step\n",
      "9\n",
      "<class 'numpy.int64'>\n",
      "1/1 [==============================] - 0s 24ms/step\n",
      "9\n",
      "<class 'numpy.int64'>\n",
      "1/1 [==============================] - 0s 22ms/step\n",
      "9\n",
      "<class 'numpy.int64'>\n",
      "1/1 [==============================] - 0s 22ms/step\n",
      "9\n",
      "<class 'numpy.int64'>\n",
      "1/1 [==============================] - 0s 36ms/step\n",
      "9\n",
      "<class 'numpy.int64'>\n",
      "1/1 [==============================] - 0s 23ms/step\n",
      "9\n",
      "<class 'numpy.int64'>\n",
      "1/1 [==============================] - 0s 22ms/step\n",
      "9\n",
      "<class 'numpy.int64'>\n",
      "1/1 [==============================] - 0s 16ms/step\n",
      "9\n",
      "<class 'numpy.int64'>\n",
      "1/1 [==============================] - 0s 9ms/step\n",
      "9\n",
      "<class 'numpy.int64'>\n",
      "1/1 [==============================] - 0s 20ms/step\n",
      "9\n",
      "<class 'numpy.int64'>\n",
      "1/1 [==============================] - 0s 12ms/step\n",
      "9\n",
      "<class 'numpy.int64'>\n",
      "1/1 [==============================] - 0s 23ms/step\n",
      "9\n",
      "<class 'numpy.int64'>\n",
      "1/1 [==============================] - 0s 17ms/step\n",
      "9\n",
      "<class 'numpy.int64'>\n",
      "1/1 [==============================] - 0s 18ms/step\n",
      "2\n",
      "<class 'numpy.int64'>\n",
      "1/1 [==============================] - 0s 37ms/step\n",
      "2\n",
      "<class 'numpy.int64'>\n",
      "1/1 [==============================] - 0s 29ms/step\n",
      "2\n",
      "<class 'numpy.int64'>\n",
      "1/1 [==============================] - 0s 22ms/step\n",
      "2\n",
      "<class 'numpy.int64'>\n",
      "1/1 [==============================] - 0s 13ms/step\n",
      "2\n",
      "<class 'numpy.int64'>\n",
      "1/1 [==============================] - 0s 11ms/step\n",
      "2\n",
      "<class 'numpy.int64'>\n",
      "1/1 [==============================] - 0s 22ms/step\n",
      "8\n",
      "<class 'numpy.int64'>\n",
      "1/1 [==============================] - 0s 25ms/step\n",
      "8\n",
      "<class 'numpy.int64'>\n",
      "1/1 [==============================] - 0s 21ms/step\n",
      "8\n",
      "<class 'numpy.int64'>\n",
      "1/1 [==============================] - 0s 27ms/step\n",
      "8\n",
      "<class 'numpy.int64'>\n",
      "1/1 [==============================] - 0s 29ms/step\n",
      "8\n",
      "<class 'numpy.int64'>\n",
      "1/1 [==============================] - 0s 21ms/step\n",
      "8\n",
      "<class 'numpy.int64'>\n",
      "1/1 [==============================] - 0s 26ms/step\n",
      "8\n",
      "<class 'numpy.int64'>\n",
      "1/1 [==============================] - 0s 23ms/step\n",
      "8\n",
      "<class 'numpy.int64'>\n",
      "1/1 [==============================] - 0s 37ms/step\n",
      "8\n",
      "<class 'numpy.int64'>\n",
      "1/1 [==============================] - 0s 28ms/step\n",
      "8\n",
      "<class 'numpy.int64'>\n",
      "1/1 [==============================] - 0s 16ms/step\n",
      "8\n",
      "<class 'numpy.int64'>\n",
      "1/1 [==============================] - 0s 24ms/step\n",
      "8\n",
      "<class 'numpy.int64'>\n",
      "1/1 [==============================] - 0s 16ms/step\n",
      "8\n",
      "<class 'numpy.int64'>\n",
      "1/1 [==============================] - 0s 21ms/step\n",
      "8\n",
      "<class 'numpy.int64'>\n",
      "1/1 [==============================] - 0s 22ms/step\n",
      "8\n",
      "<class 'numpy.int64'>\n",
      "1/1 [==============================] - 0s 35ms/step\n",
      "8\n",
      "<class 'numpy.int64'>\n",
      "1/1 [==============================] - 0s 11ms/step\n",
      "8\n",
      "<class 'numpy.int64'>\n",
      "1/1 [==============================] - 0s 17ms/step\n",
      "8\n",
      "<class 'numpy.int64'>\n",
      "1/1 [==============================] - 0s 21ms/step\n",
      "8\n",
      "<class 'numpy.int64'>\n",
      "1/1 [==============================] - 0s 30ms/step\n",
      "8\n",
      "<class 'numpy.int64'>\n",
      "1/1 [==============================] - 0s 19ms/step\n",
      "8\n",
      "<class 'numpy.int64'>\n",
      "1/1 [==============================] - 0s 29ms/step\n",
      "8\n",
      "<class 'numpy.int64'>\n",
      "1/1 [==============================] - 0s 13ms/step\n",
      "8\n",
      "<class 'numpy.int64'>\n",
      "1/1 [==============================] - 0s 15ms/step\n",
      "8\n",
      "<class 'numpy.int64'>\n",
      "1/1 [==============================] - 0s 25ms/step\n",
      "8\n",
      "<class 'numpy.int64'>\n",
      "1/1 [==============================] - 0s 14ms/step\n",
      "8\n",
      "<class 'numpy.int64'>\n",
      "1/1 [==============================] - 0s 16ms/step\n",
      "8\n",
      "<class 'numpy.int64'>\n",
      "1/1 [==============================] - 0s 11ms/step\n",
      "8\n",
      "<class 'numpy.int64'>\n",
      "1/1 [==============================] - 0s 16ms/step\n",
      "8\n",
      "<class 'numpy.int64'>\n",
      "1/1 [==============================] - 0s 30ms/step\n",
      "8\n",
      "<class 'numpy.int64'>\n",
      "1/1 [==============================] - 0s 25ms/step\n",
      "8\n",
      "<class 'numpy.int64'>\n",
      "1/1 [==============================] - 0s 22ms/step\n",
      "8\n",
      "<class 'numpy.int64'>\n",
      "1/1 [==============================] - 0s 21ms/step\n",
      "8\n",
      "<class 'numpy.int64'>\n",
      "1/1 [==============================] - 0s 33ms/step\n",
      "8\n",
      "<class 'numpy.int64'>\n",
      "1/1 [==============================] - 0s 12ms/step\n",
      "8\n",
      "<class 'numpy.int64'>\n",
      "1/1 [==============================] - 0s 21ms/step\n",
      "8\n",
      "<class 'numpy.int64'>\n",
      "1/1 [==============================] - 0s 13ms/step\n",
      "8\n",
      "<class 'numpy.int64'>\n",
      "1/1 [==============================] - 0s 23ms/step\n",
      "8\n",
      "<class 'numpy.int64'>\n",
      "1/1 [==============================] - 0s 27ms/step\n",
      "8\n",
      "<class 'numpy.int64'>\n",
      "1/1 [==============================] - 0s 26ms/step\n",
      "8\n",
      "<class 'numpy.int64'>\n",
      "1/1 [==============================] - 0s 32ms/step\n",
      "8\n",
      "<class 'numpy.int64'>\n",
      "1/1 [==============================] - 0s 14ms/step\n",
      "8\n",
      "<class 'numpy.int64'>\n"
     ]
    }
   ],
   "source": [
    "font_scale = 1.5\n",
    "font = cv2.FONT_HERSHEY_PLAIN\n",
    "\n",
    "\n",
    "cap = cv2.VideoCapture('check.mp4')\n",
    "if not cap.isOpened():\n",
    "    cap = cv2.VideoCapture(0)\n",
    "if not cap.isOpened():\n",
    "    raise IOError(\"Cannot open video\")\n",
    "\n",
    "\n",
    "text = \"Some text in a box!\"\n",
    "(text_width, text_height) = cv2.getTextSize(text, font, fontScale=font_scale, thickness=1)[0]\n",
    "text_offset_x = 10\n",
    "text_offset_y = img.shape[0] - 25\n",
    "\n",
    "box_coords = ((text_offset_x, text_offset_y), (text_offset_x + text_width + 2, text_offset_y - text_height - 2))\n",
    "\n",
    "cntr = 0\n",
    "while True:\n",
    "    res, frame = cap.read()\n",
    "    if frame is None: break\n",
    "    cntr = cntr + 1\n",
    "    if cntr % 3 == 0:\n",
    "        frame = cv2.resize(frame,(0,0),None,0.65,0.65)\n",
    "        gray = cv2.cvtColor(frame, cv2.COLOR_BGR2GRAY)\n",
    "        resized = cv2.resize(gray, (28, 28), interpolation = cv2.INTER_AREA)\n",
    "        newimg = tf.keras.utils.normalize(resized, axis=1)\n",
    "        newimg = np.array(newimg).reshape(-1, IMG_SIZE, IMG_SIZE, 1)\n",
    "        predictions = model.predict(newimg)\n",
    "        status = np.argmax(predictions)\n",
    "        print(status)\n",
    "        print(type(status))\n",
    "\n",
    "        x1, y1, w1, h1 = 0, 0, 175, 175\n",
    "        cv2.rectangle(frame, (x1, x1), (x1 + w1, y1 + h1), (0, 255, 0), -1)\n",
    "        cv2.putText(frame, status.astype(str), (x1 + int(w1 / 5), y1 + int(h1 / 2)), cv2.FONT_HERSHEY_SIMPLEX, 0.7, (0, 0, 255), 2)\n",
    "\n",
    "        cv2.imshow('Handwritten Digits Recognition', frame)\n",
    "\n",
    "        if cv2.waitKey(2) & 0xFF == ord('q'):\n",
    "            break\n",
    "\n",
    "cap.release()\n",
    "cv2.destroyAllWindows()"
   ]
  },
  {
   "cell_type": "code",
   "execution_count": 39,
   "metadata": {},
   "outputs": [
    {
     "name": "stdout",
     "output_type": "stream",
     "text": [
      "INFO:tensorflow:Assets written to: ./lite\\assets\n"
     ]
    },
    {
     "name": "stderr",
     "output_type": "stream",
     "text": [
      "INFO:tensorflow:Assets written to: ./lite\\assets\n"
     ]
    }
   ],
   "source": [
    "tf.saved_model.save(model, \"./lite\")"
   ]
  }
 ],
 "metadata": {
  "kernelspec": {
   "display_name": "Python 3",
   "language": "python",
   "name": "python3"
  },
  "language_info": {
   "codemirror_mode": {
    "name": "ipython",
    "version": 3
   },
   "file_extension": ".py",
   "mimetype": "text/x-python",
   "name": "python",
   "nbconvert_exporter": "python",
   "pygments_lexer": "ipython3",
   "version": "3.11.5"
  }
 },
 "nbformat": 4,
 "nbformat_minor": 2
}
